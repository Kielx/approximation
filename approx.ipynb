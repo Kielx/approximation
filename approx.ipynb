{
 "cells": [
  {
   "cell_type": "markdown",
   "source": [
    "# Aproksymacja metodą najmniejszych kwadratów\n",
    "\n",
    "Aproksymacja metodą najmniejszych kwadratów to technika matematyczna używana do znalezienia najlepszego dopasowania funkcji do zestawu danych pomiarowych. Metoda ta polega na minimalizacji sumy kwadratów różnic między wartościami pomiarowymi a wartościami teoretycznymi funkcji aproksymującej. Innymi słowy, stara się znaleźć funkcję, która w największym stopniu \"przybliża\" dane wejściowe, minimalizując błędy kwadratowe. Jest często stosowana w analizie statystycznej, statystyce matematycznej, a także w różnych dziedzinach nauki i inżynierii do analizy i prognozowania danych.\n"
   ],
   "metadata": {
    "collapsed": false
   }
  },
  {
   "cell_type": "markdown",
   "source": [
    "## Import Bibliotek"
   ],
   "metadata": {
    "collapsed": false
   }
  },
  {
   "cell_type": "code",
   "execution_count": 120,
   "outputs": [],
   "source": [
    "import numpy as np\n",
    "import sympy as sp"
   ],
   "metadata": {
    "collapsed": false,
    "ExecuteTime": {
     "start_time": "2023-04-17T07:10:31.805321Z",
     "end_time": "2023-04-17T07:10:31.815323Z"
    }
   }
  },
  {
   "cell_type": "markdown",
   "source": [
    "## Przyjęcie od użytkownika stopnia wielomianu aproksymacji"
   ],
   "metadata": {
    "collapsed": false
   }
  },
  {
   "cell_type": "code",
   "execution_count": 121,
   "outputs": [],
   "source": [
    "m = int(input(\"Podaj stopień wielomianu aproksymacji: \"))"
   ],
   "metadata": {
    "collapsed": false,
    "ExecuteTime": {
     "start_time": "2023-04-17T07:10:31.815323Z",
     "end_time": "2023-04-17T07:10:33.223927Z"
    }
   }
  },
  {
   "cell_type": "markdown",
   "source": [
    "## Wczytanie danych\n",
    "Dane wczytywane są z pliku tekstowego o podanej nazwie.\n",
    "Dane powinny być w formie dwóch kolumn, gdzie pierwsza kolumna to wartości x, a druga kolumna to wartości y.\n",
    "Kolumny powinny być oddzielone tabulatorem.\n",
    "Poniższa funkcja automatycznie zastępuje przecinki jako separator dziesiętny na kropki, co pozwala na poprawne wczytanie danych za pomocą np.loadtxt."
   ],
   "metadata": {
    "collapsed": false
   }
  },
  {
   "cell_type": "code",
   "execution_count": 122,
   "outputs": [
    {
     "name": "stdout",
     "output_type": "stream",
     "text": [
      "[[-1.8   5.68]\n",
      " [-1.    1.99]\n",
      " [ 0.2   1.24]\n",
      " [ 1.2   9.81]\n",
      " [ 2.   14.5 ]]\n"
     ]
    }
   ],
   "source": [
    "nazwa_pliku = 'input.txt'\n",
    "\n",
    "# Funkcja, która zastępuje przecinki jako separator dziesiętny na kropki - w celu poprawnego wczytania danych za\n",
    "# pomocą np.loadtxt\n",
    "def replace_commas_with_periods(filename):\n",
    "    with open(filename, 'r') as file:\n",
    "        contents = file.read()\n",
    "        new_contents = contents.replace(',', '.')\n",
    "    with open(filename, 'w') as file:\n",
    "        file.write(new_contents)\n",
    "\n",
    "replace_commas_with_periods(nazwa_pliku)\n",
    "coords = np.loadtxt('./' + nazwa_pliku, delimiter='\\t')\n",
    "print(coords)"
   ],
   "metadata": {
    "collapsed": false,
    "ExecuteTime": {
     "start_time": "2023-04-17T07:10:33.189842Z",
     "end_time": "2023-04-17T07:10:33.229927Z"
    }
   }
  },
  {
   "cell_type": "markdown",
   "source": [
    "## Tworzenie macierzy Sk\n",
    "Macierz s jest tworzona w celu obliczenia zgodnie ze wzorem:\n",
    "\n",
    "![Wzor Sk](assets/1.png)\n",
    "\n",
    "W tym celu najpierw inicjalizujemy dwa wektory -\n",
    "1)**xi** - który przechowuje współrzędne x poszczególnych parametrów,\n",
    "2)**yi** - który przechowuje współrzędne y poszczególnych parametrów\n",
    "\n",
    "Następnie iterujemy po każdej wartości xi i tworzymy tymczasową tablicę, która będzie przechowywać aktualny wiersz, który obliczamy i do którego wstawiamy kolejne elementy.\n",
    "Po tym iterujemy po kolejnych wartościach k (będących w zakresie od 0 do m*2+1) i dodajemy kolejne elementy do tymczasowej macierzy,\n",
    "które są obliczane są jako potęgi k-tej wartości aktualnie iterowanej wartości xi.\n",
    "Po zakończeniu iteracji po k dodajemy wiersz do macierzy s korzystając z funkcji np.vstack.\n"
   ],
   "metadata": {
    "collapsed": false
   }
  },
  {
   "cell_type": "code",
   "execution_count": 132,
   "outputs": [
    {
     "name": "stdout",
     "output_type": "stream",
     "text": [
      "[[ 1.   -1.8   3.24 -5.83 10.5 ]\n",
      " [ 1.   -1.    1.   -1.    1.  ]\n",
      " [ 1.    0.2   0.04  0.01  0.  ]\n",
      " [ 1.    1.2   1.44  1.73  2.07]\n",
      " [ 1.    2.    4.    8.   16.  ]\n",
      " [ 5.    0.6   9.72  2.91 29.57]]\n"
     ]
    }
   ],
   "source": [
    "# inicjalizujemy wektory xi i yi\n",
    "xi = coords[:, 0]\n",
    "yi = coords[:, 1]\n",
    "# określamy rozmiar macierzy s poprzez wstawienie do niej pierwszego wiersza (który zawiera tylko zera)\n",
    "s = np.zeros((1, m*2+1))\n",
    "\n",
    "# iterujemy po każdej wartości xi\n",
    "for x in xi:\n",
    "    # tworzymy tymczasową tablicę, która będzie przechowywać kolejne elementy aktualnego wiersza\n",
    "    temp = np.array([])\n",
    "    # iterujemy po kolejnych wartościach k (będących w zakresie od 0 do m*2+1)\n",
    "    for k in range(0, m*2+1):\n",
    "        # dodajemy kolejne elementy do wiersza, obliczane jako potęgi k-tej wartości aktualnie iterowanej wartości xi\n",
    "        temp = np.append(temp, round(x**k,2))\n",
    "    # dodajemy wiersz do macierzy s\n",
    "    s = np.vstack((s, temp))\n",
    "\n",
    "# usuwamy pierwszy wiersz, który zawierał tylko zera\n",
    "s = np.delete(s, 0, 0)\n",
    "\n",
    "# sk przechowuje sumy kolejnych kolumn macierzy s\n",
    "sk = np.sum(s, axis=0)\n",
    "s = np.vstack((s, sk))\n",
    "\n",
    "# wyświetlamy macierz s\n",
    "# np.set_printoptions(suppress=True) - wyłącza notację naukową\n",
    "np.set_printoptions(suppress=True)\n",
    "print(s)"
   ],
   "metadata": {
    "collapsed": false,
    "ExecuteTime": {
     "start_time": "2023-04-17T07:24:23.858672Z",
     "end_time": "2023-04-17T07:24:23.869670Z"
    }
   }
  },
  {
   "cell_type": "markdown",
   "source": [],
   "metadata": {
    "collapsed": false
   }
  },
  {
   "cell_type": "markdown",
   "source": [
    "## Tworzenie macierzy S"
   ],
   "metadata": {
    "collapsed": false
   }
  },
  {
   "cell_type": "code",
   "execution_count": 133,
   "outputs": [
    {
     "name": "stdout",
     "output_type": "stream",
     "text": [
      "[[ 5.    0.6   9.72]\n",
      " [ 0.6   9.72  2.91]\n",
      " [ 9.72  2.91 29.57]]\n"
     ]
    }
   ],
   "source": [
    "# tworzymy wstępną macierz wyników i nadajemy jej kształt, wypełniając zerami\n",
    "wyn = np.zeros((1, m+1))\n",
    "\n",
    "# iterujemy po wartościach w zakresie od 0 do stopnia wielomianu + 1\n",
    "for i in range(m+1):\n",
    "    # tworzymy tymczasową listę, która będzie zawierała kolejne elementy wiersza\n",
    "    temp = np.array([])\n",
    "    # dla każdego elementu w zakresie od 0 do stopnia wielomianu + 1\n",
    "    for j in range(m+1):\n",
    "        # dodajemy kolejne elementy do tymczasowej listy, która reprezentuje wiersz na zasadzie\n",
    "        # wartośc listy sk o indeksie równym i+j - czyli dla pierwszego wiersza będą to elementy 0, 1, 2,\n",
    "        # dla drugiego wiersza elementy 1,2,3\n",
    "        # dla trzeciego 2,3,4 itd.\n",
    "        temp = np.append(temp, sk[i+j])\n",
    "    # dodajemy wiersz do macierzy wyników\n",
    "    wyn = np.vstack((wyn, temp))\n",
    "\n",
    "# usuwamy pierwszy wiersz, który zawierał tylko zera\n",
    "S = np.delete(wyn, 0, 0)\n",
    "print(S)"
   ],
   "metadata": {
    "collapsed": false,
    "ExecuteTime": {
     "start_time": "2023-04-17T07:38:41.834697Z",
     "end_time": "2023-04-17T07:38:41.853702Z"
    }
   }
  },
  {
   "cell_type": "markdown",
   "source": [
    "## Tworzenie macierzy Tk\n",
    "Macierz Tk jest tworzona w celu obliczenia zgodnie ze wzorem:\n",
    "\n",
    "![Wzor Sk](assets/2.png)\n",
    "\n",
    "W pierwszym etapie inicjalizujemy macierz, tworząc jeden wiersz zawierający same zera o ilości kolumn równej stopniowi wielomianu + 1.\n",
    "\n",
    "Następnie iterujemy po każdej wartości xi i tworzymy tymczasową tablicę, która będzie przechowywać aktualny wiersz, który obliczamy i do którego wstawiamy kolejne elementy.\n",
    "Po tym iterujemy po kolejnych wartościach k (będących w zakresie od 0 do m*2+1) i dodajemy kolejne elementy do tymczasowej macierzy,\n",
    "które są obliczane są jako potęgi k-tej wartości aktualnie iterowanej wartości xi.\n",
    "Po zakończeniu iteracji po k dodajemy wiersz do macierzy s korzystając z funkcji np.vstack."
   ],
   "metadata": {
    "collapsed": false
   }
  },
  {
   "cell_type": "code",
   "execution_count": 125,
   "outputs": [
    {
     "name": "stdout",
     "output_type": "stream",
     "text": [
      "[33.22   28.806  92.5692]\n"
     ]
    }
   ],
   "source": [
    "tk = np.zeros((1, m+1))\n",
    "\n",
    "for index, x in enumerate(xi):\n",
    "    temp = np.array([])\n",
    "    for k in range(0, m+1):\n",
    "        temp = np.append(temp, x**k * yi[index])\n",
    "    tk = np.vstack((tk, temp))\n",
    "tk = np.delete(tk, 0, 0)\n",
    "Tk = np.sum(tk, axis=0)\n",
    "print(Tk)"
   ],
   "metadata": {
    "collapsed": false,
    "ExecuteTime": {
     "start_time": "2023-04-17T07:10:33.237460Z",
     "end_time": "2023-04-17T07:10:33.283647Z"
    }
   }
  },
  {
   "cell_type": "code",
   "execution_count": 126,
   "outputs": [
    {
     "name": "stdout",
     "output_type": "stream",
     "text": [
      "[[ 0.55820772  0.02109786 -0.18556557]\n",
      " [ 0.02109786  0.10680119 -0.01744547]\n",
      " [-0.18556557 -0.01744547  0.09653242]]\n"
     ]
    }
   ],
   "source": [
    "S_inverse = np.linalg.inv(S)\n",
    "print(S_inverse)"
   ],
   "metadata": {
    "collapsed": false,
    "ExecuteTime": {
     "start_time": "2023-04-17T07:10:33.253552Z",
     "end_time": "2023-04-17T07:10:33.291655Z"
    }
   }
  },
  {
   "cell_type": "code",
   "execution_count": 127,
   "outputs": [
    {
     "name": "stdout",
     "output_type": "stream",
     "text": [
      "[1.97374926 2.16247251 2.2689064 ]\n"
     ]
    }
   ],
   "source": [
    "A = np.dot(S_inverse, Tk)\n",
    "print(A)"
   ],
   "metadata": {
    "collapsed": false,
    "ExecuteTime": {
     "start_time": "2023-04-17T07:10:33.269554Z",
     "end_time": "2023-04-17T07:10:33.291655Z"
    }
   }
  },
  {
   "cell_type": "code",
   "execution_count": 128,
   "outputs": [
    {
     "name": "stdout",
     "output_type": "stream",
     "text": [
      "2.27*x**2 + 2.16*x + 1.97\n"
     ]
    }
   ],
   "source": [
    "sp.init_printing()\n",
    "x = sp.Symbol('x')\n",
    "\n",
    "result_array = np.array([])\n",
    "for index, a in enumerate(A):\n",
    "    result_array = np.append(result_array, round(a, 2) * x**index)\n",
    "\n",
    "result = np.sum(result_array)\n",
    "print(result)"
   ],
   "metadata": {
    "collapsed": false,
    "ExecuteTime": {
     "start_time": "2023-04-17T07:10:33.285654Z",
     "end_time": "2023-04-17T07:10:33.300657Z"
    }
   }
  },
  {
   "cell_type": "code",
   "execution_count": 129,
   "outputs": [
    {
     "data": {
      "text/plain": "<Figure size 640x480 with 1 Axes>",
      "image/png": "[encoded data removed]"
     },
     "metadata": {},
     "output_type": "display_data"
    }
   ],
   "source": [
    "from sympy.plotting.plot import MatplotlibBackend, Plot\n",
    "\n",
    "# funkcja zwracająca wykres z biblioteki sympy\n",
    "# Używana z powodu konieczności połączenia wielu wykresów w jeden\n",
    "def get_sympy_subplots(plot:Plot):\n",
    "    backend = MatplotlibBackend(plot)\n",
    "\n",
    "    backend.process_series()\n",
    "    backend.fig.tight_layout()\n",
    "    return backend.fig, backend.ax[0]\n",
    "\n",
    "p1 = sp.plot(result, (x, -2, 2),  show=False, line_color='red')\n",
    "p1.title = 'Wynik aproksymacji'\n",
    "fig, axe = get_sympy_subplots(p1)\n",
    "# Dodatkowe wykresy-tu punkty interpolacji\n",
    "axe.plot(xi, yi, \"o\")\n",
    "axe.legend(['Wynik interpolacji', 'Punkty pomiarowe'], loc='lower right')\n",
    "axe.grid()"
   ],
   "metadata": {
    "collapsed": false,
    "ExecuteTime": {
     "start_time": "2023-04-17T07:10:33.304657Z",
     "end_time": "2023-04-17T07:10:33.473675Z"
    }
   }
  }
 ],
 "metadata": {
  "kernelspec": {
   "display_name": "Python 3",
   "language": "python",
   "name": "python3"
  },
  "language_info": {
   "codemirror_mode": {
    "name": "ipython",
    "version": 2
   },
   "file_extension": ".py",
   "mimetype": "text/x-python",
   "name": "python",
   "nbconvert_exporter": "python",
   "pygments_lexer": "ipython2",
   "version": "2.7.6"
  }
 },
 "nbformat": 4,
 "nbformat_minor": 0
}
