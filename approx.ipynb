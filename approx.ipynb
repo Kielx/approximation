{
 "cells": [
  {
   "cell_type": "code",
   "execution_count": 70,
   "metadata": {
    "collapsed": true
   },
   "outputs": [
    {
     "name": "stdout",
     "output_type": "stream",
     "text": [
      "[[-1.8   5.69]\n",
      " [-1.    1.99]\n",
      " [ 0.2   1.24]\n",
      " [ 1.2   9.81]\n",
      " [ 2.   14.5 ]]\n"
     ]
    }
   ],
   "source": [
    "import numpy as np\n",
    "\n",
    "coords = np.array([[-1.8, -1, 0.2, 1.2, 2], [5.69, 1.99, 1.24, 9.81, 14.5]])\n",
    "\n",
    "coords_transposed = coords.T\n",
    "print(coords_transposed)"
   ]
  },
  {
   "cell_type": "code",
   "execution_count": 71,
   "outputs": [
    {
     "name": "stdout",
     "output_type": "stream",
     "text": [
      "[[ 0.    0.    0.  ]\n",
      " [ 1.   -1.8   3.24]\n",
      " [ 1.   -1.    1.  ]\n",
      " [ 1.    0.2   0.04]\n",
      " [ 1.    1.2   1.44]\n",
      " [ 1.    2.    4.  ]\n",
      " [ 5.    0.6   9.72]]\n"
     ]
    }
   ],
   "source": [
    "m = 1\n",
    "xi = coords_transposed[:, 0]\n",
    "yi = coords_transposed[:, 1]\n",
    "s = np.zeros((1, m*2+1))\n",
    "\n",
    "for x in xi:\n",
    "    temp = np.array([])\n",
    "    for k in range(0, m*2+1):\n",
    "        temp = np.append(temp, x**k)\n",
    "    s = np.vstack((s, temp))\n",
    "\n",
    "\n",
    "sk = np.sum(s, axis=0)\n",
    "s = np.vstack((s, sk))\n",
    "print(s)"
   ],
   "metadata": {
    "collapsed": false
   }
  },
  {
   "cell_type": "code",
   "execution_count": 72,
   "outputs": [
    {
     "name": "stdout",
     "output_type": "stream",
     "text": [
      "[[5.   0.6 ]\n",
      " [0.6  9.72]]\n"
     ]
    }
   ],
   "source": [
    "# tworzymy wstępną macierz wyników i nadajemy jej kształt, wypełniając zerami\n",
    "wyn = np.zeros((1, m+1))\n",
    "\n",
    "# uruchamiamy pętle m+1 razy, gdyż taka będzie liczba kolumn w macierzy wyników\n",
    "for i in range(m+1):\n",
    "    # tworzymy tymczasową macierz, która będzie zawierała kolejne elementy wiersza\n",
    "    temp = np.array([])\n",
    "    # uruchamiamy pętle m+1 razy, gdyż taka będzie liczba elementów w wierszu\n",
    "    for j in range(m+1):\n",
    "        # dodajemy kolejne elementy do tymczasowej macierzy\n",
    "        temp = np.append(temp, sk[i+j])\n",
    "    # dodajemy wiersz do macierzy wyników\n",
    "    wyn = np.vstack((wyn, temp))\n",
    "\n",
    "# usuwamy pierwszy wiersz, który zawierał tylko zera\n",
    "wyn = np.delete(wyn, 0, 0)\n",
    "print(wyn)"
   ],
   "metadata": {
    "collapsed": false
   }
  },
  {
   "cell_type": "code",
   "execution_count": 72,
   "outputs": [],
   "source": [],
   "metadata": {
    "collapsed": false
   }
  },
  {
   "cell_type": "code",
   "execution_count": 72,
   "outputs": [],
   "source": [],
   "metadata": {
    "collapsed": false
   }
  }
 ],
 "metadata": {
  "kernelspec": {
   "display_name": "Python 3",
   "language": "python",
   "name": "python3"
  },
  "language_info": {
   "codemirror_mode": {
    "name": "ipython",
    "version": 2
   },
   "file_extension": ".py",
   "mimetype": "text/x-python",
   "name": "python",
   "nbconvert_exporter": "python",
   "pygments_lexer": "ipython2",
   "version": "2.7.6"
  }
 },
 "nbformat": 4,
 "nbformat_minor": 0
}
